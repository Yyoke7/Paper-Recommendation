{
 "cells": [
  {
   "cell_type": "markdown",
   "id": "181de50a",
   "metadata": {
    "papermill": {
     "duration": 0.010485,
     "end_time": "2024-02-12T23:55:46.938589",
     "exception": false,
     "start_time": "2024-02-12T23:55:46.928104",
     "status": "completed"
    },
    "tags": []
   },
   "source": [
    "# Research Paper Recommendation\n",
    "\n",
    "Research papers hold significant importance as they contribute to the advancement of knowledge by presenting new findings and insights. They undergo rigorous peer review to ensure credibility and validity. These papers serve as a foundation for future studies, allowing researchers to build upon existing work and identify research gaps. They enable the dissemination of information, foster collaboration and networking, and serve as references for critical analysis within the scientific community. Research papers play a vital role in academic and professional growth, enhancing visibility and reputation. They lead to innovations, have practical applications, and provide evidence-based information for policy-making and decision-making processes. Through replication and verification, they ensure the reliability of research, and they have the potential to make a global impact by addressing societal challenges and advancing human knowledge.\n",
    "\n",
    "A literature review is a critical and comprehensive analysis of existing research papers on a specific topic. It involves systematically reviewing, summarizing, and evaluating the relevant research studies, articles, books, and other sources to provide a comprehensive overview of the current state of knowledge in a particular field. The purpose of a literature review is to identify the gaps, trends, and patterns in the existing literature, highlight the theoretical frameworks and methodologies employed, and synthesize the findings to develop a solid theoretical foundation for further research. It serves as a crucial component of research papers, guiding researchers in formulating research questions, identifying research gaps, and contributing to the existing body of knowledge.\n",
    "\n",
    "Finding papers for a literature review can be challenging due to the vast amount of available literature, limited access to scholarly resources, language barriers, publication bias, time constraints, and the need to stay up-to-date with the latest research. However, by narrowing down the search, utilizing available resources, exploring diverse sources, managing time effectively, staying informed, and seeking expert guidance, these difficulties can be overcome, enabling a comprehensive and well-informed literature review.\n",
    "\n",
    "## Embeddings\n",
    "\n",
    "Embeddings are numerical representations of data that capture meaningful relationships and similarities between items. In the context of natural language processing (NLP), embeddings such as word embeddings and sentence embeddings encode words or sentences into dense vectors in a continuous vector space. These vectors are learned through unsupervised methods, considering co-occurrence patterns or utilizing sophisticated models like the Universal Sentence Encoder (USE), BERT, or GPT. Embeddings enable algorithms to understand the contextual meaning and relationships within words and sentences. They facilitate efficient comparisons, measuring similarities using metrics like cosine similarity, and exhibit vector arithmetic, capturing semantic relationships. By representing textual data numerically, embeddings enhance the performance of machine learning models in various NLP tasks, allowing for more effective analysis, retrieval, and understanding of textual information.\n",
    "\n",
    "<img src=\"https://miro.medium.com/v2/resize:fit:1400/1*ytRLNPOlDQ7kV6XhwH4baA.png\">\n",
    "\n",
    "## Semantic Similarity\n",
    "\n",
    "Semantic similarity refers to the degree of similarity or relatedness between two pieces of text based on their underlying meaning. It goes beyond surface-level similarities and focuses on capturing the contextual and semantic relationships between words, phrases, or sentences. Semantic similarity can be assessed using various techniques, including natural language processing (NLP) models and similarity metrics such as cosine similarity or Euclidean distance. These methods aim to measure the similarity between textual representations, such as word embeddings or sentence embeddings, by considering the semantic relationships encoded within them. Semantic similarity has applications in several NLP tasks, including information retrieval, question answering, text summarization, and machine translation, where understanding the semantic similarity between text snippets is crucial for accurate and meaningful analysis.\n",
    "\n",
    "<img src=\"https://www.researchgate.net/publication/266477879/figure/fig3/AS:669279997399053@1536580194278/Example-of-semantic-similarity-calculation.png\">\n"
   ]
  },
  {
   "cell_type": "markdown",
   "id": "3b448dc2",
   "metadata": {
    "papermill": {
     "duration": 0.009467,
     "end_time": "2024-02-12T23:55:46.958491",
     "exception": false,
     "start_time": "2024-02-12T23:55:46.949024",
     "status": "completed"
    },
    "tags": []
   },
   "source": [
    "<div class=\"alert alert-success\" role=\"alert\">\n",
    "    <h3>In this Project</h3>\n",
    "    <ul>\n",
    "        <li>Extracting Research Papers data from Arxiv dataset</li>\n",
    "        <li>Using <strong>Universal Sentence Encoder</strong> to extract embeddings of Research Abstracts</li>\n",
    "        <li>Training a K Neighbors Classifier to find similar research papers</li>\n",
    "    </ul>\n",
    "</div>"
   ]
  },
  {
   "cell_type": "markdown",
   "id": "2b7f84f3",
   "metadata": {
    "papermill": {
     "duration": 0.009414,
     "end_time": "2024-02-12T23:55:46.978004",
     "exception": false,
     "start_time": "2024-02-12T23:55:46.968590",
     "status": "completed"
    },
    "tags": []
   },
   "source": [
    "# Setup"
   ]
  },
  {
   "cell_type": "code",
   "execution_count": 2,
   "id": "22369f29",
   "metadata": {
    "_cell_guid": "b1076dfc-b9ad-4769-8c92-a6c4dae69d19",
    "_uuid": "8f2839f25d086af736a60e9eeb907d3b93b6e0e5",
    "execution": {
     "iopub.execute_input": "2024-02-12T23:55:47.001395Z",
     "iopub.status.busy": "2024-02-12T23:55:47.000403Z",
     "iopub.status.idle": "2024-02-12T23:55:57.195604Z",
     "shell.execute_reply": "2024-02-12T23:55:57.194269Z"
    },
    "papermill": {
     "duration": 10.211274,
     "end_time": "2024-02-12T23:55:57.198915",
     "exception": false,
     "start_time": "2024-02-12T23:55:46.987641",
     "status": "completed"
    },
    "tags": []
   },
   "outputs": [],
   "source": [
    "import warnings\n",
    "warnings.filterwarnings('ignore')\n",
    "\n",
    "import os\n",
    "import json\n",
    "import random\n",
    "import pandas as pd\n",
    "import numpy as np\n",
    "import matplotlib.pyplot as plt\n",
    "import seaborn as sns\n",
    "\n",
    "import tensorflow as tf\n",
    "import tensorflow_hub as hub\n",
    "from tensorflow.keras.losses import cosine_similarity\n",
    "from sklearn.decomposition import PCA\n",
    "from sklearn.neighbors import KNeighborsClassifier\n",
    "\n",
    "plt.rcParams['figure.figsize'] = (8,5)\n",
    "plt.rcParams['font.size'] = 14"
   ]
  },
  {
   "cell_type": "markdown",
   "id": "9578097e",
   "metadata": {
    "papermill": {
     "duration": 0.009542,
     "end_time": "2024-02-12T23:55:57.218415",
     "exception": false,
     "start_time": "2024-02-12T23:55:57.208873",
     "status": "completed"
    },
    "tags": []
   },
   "source": [
    "# Loading Data"
   ]
  },
  {
   "cell_type": "code",
   "execution_count": 3,
   "id": "7b84f556",
   "metadata": {
    "execution": {
     "iopub.execute_input": "2024-02-12T23:55:57.241265Z",
     "iopub.status.busy": "2024-02-12T23:55:57.239993Z",
     "iopub.status.idle": "2024-02-12T23:55:57.246290Z",
     "shell.execute_reply": "2024-02-12T23:55:57.245041Z"
    },
    "papermill": {
     "duration": 0.020588,
     "end_time": "2024-02-12T23:55:57.248972",
     "exception": false,
     "start_time": "2024-02-12T23:55:57.228384",
     "status": "completed"
    },
    "tags": []
   },
   "outputs": [],
   "source": [
    "FILE = './arxiv-metadata-oai-snapshot.json'\n",
    "\n",
    "def get_data():\n",
    "    with open(FILE) as f:\n",
    "        for line in f:\n",
    "            yield line"
   ]
  },
  {
   "cell_type": "code",
   "execution_count": 4,
   "id": "2c24ce99",
   "metadata": {
    "execution": {
     "iopub.execute_input": "2024-02-12T23:55:57.270859Z",
     "iopub.status.busy": "2024-02-12T23:55:57.270457Z",
     "iopub.status.idle": "2024-02-12T23:57:42.555810Z",
     "shell.execute_reply": "2024-02-12T23:57:42.554692Z"
    },
    "papermill": {
     "duration": 105.300837,
     "end_time": "2024-02-12T23:57:42.559463",
     "exception": false,
     "start_time": "2024-02-12T23:55:57.258626",
     "status": "completed"
    },
    "tags": []
   },
   "outputs": [],
   "source": [
    "dataframe = {\n",
    "    'title': [],\n",
    "    'year': [],\n",
    "    'abstract': []\n",
    "}\n",
    "\n",
    "data = get_data()\n",
    "for i, paper in enumerate(data):\n",
    "    paper = json.loads(paper)\n",
    "    try:\n",
    "        date = int(paper['update_date'].split('-')[0])\n",
    "        if date > 2019:\n",
    "            dataframe['title'].append(paper['title'])\n",
    "            dataframe['year'].append(date)\n",
    "            dataframe['abstract'].append(paper['abstract'])\n",
    "    except: pass"
   ]
  },
  {
   "cell_type": "code",
   "execution_count": 5,
   "id": "d7b6898a",
   "metadata": {
    "execution": {
     "iopub.execute_input": "2024-02-12T23:57:42.584781Z",
     "iopub.status.busy": "2024-02-12T23:57:42.584290Z",
     "iopub.status.idle": "2024-02-12T23:57:43.513225Z",
     "shell.execute_reply": "2024-02-12T23:57:43.511998Z"
    },
    "papermill": {
     "duration": 0.942947,
     "end_time": "2024-02-12T23:57:43.516257",
     "exception": false,
     "start_time": "2024-02-12T23:57:42.573310",
     "status": "completed"
    },
    "tags": []
   },
   "outputs": [
    {
     "data": {
      "text/html": [
       "<div>\n",
       "<style scoped>\n",
       "    .dataframe tbody tr th:only-of-type {\n",
       "        vertical-align: middle;\n",
       "    }\n",
       "\n",
       "    .dataframe tbody tr th {\n",
       "        vertical-align: top;\n",
       "    }\n",
       "\n",
       "    .dataframe thead th {\n",
       "        text-align: right;\n",
       "    }\n",
       "</style>\n",
       "<table border=\"1\" class=\"dataframe\">\n",
       "  <thead>\n",
       "    <tr style=\"text-align: right;\">\n",
       "      <th></th>\n",
       "      <th>title</th>\n",
       "      <th>year</th>\n",
       "      <th>abstract</th>\n",
       "    </tr>\n",
       "  </thead>\n",
       "  <tbody>\n",
       "    <tr>\n",
       "      <th>0</th>\n",
       "      <td>Convergence of the discrete dipole approximati...</td>\n",
       "      <td>2022</td>\n",
       "      <td>We performed a rigorous theoretical converge...</td>\n",
       "    </tr>\n",
       "    <tr>\n",
       "      <th>1</th>\n",
       "      <td>The discrete dipole approximation: an overview...</td>\n",
       "      <td>2022</td>\n",
       "      <td>We present a review of the discrete dipole a...</td>\n",
       "    </tr>\n",
       "    <tr>\n",
       "      <th>2</th>\n",
       "      <td>Mapping radii of metric spaces</td>\n",
       "      <td>2021</td>\n",
       "      <td>It is known that every closed curve of lengt...</td>\n",
       "    </tr>\n",
       "    <tr>\n",
       "      <th>3</th>\n",
       "      <td>What can emission lines tell us?</td>\n",
       "      <td>2023</td>\n",
       "      <td>1 Generalities\\n  2 Empirical diagnostics ba...</td>\n",
       "    </tr>\n",
       "    <tr>\n",
       "      <th>4</th>\n",
       "      <td>The affine part of the Picard scheme</td>\n",
       "      <td>2021</td>\n",
       "      <td>We describe the maximal torus and maximal un...</td>\n",
       "    </tr>\n",
       "    <tr>\n",
       "      <th>5</th>\n",
       "      <td>The Veldkamp Space of Two-Qubits</td>\n",
       "      <td>2024</td>\n",
       "      <td>Given a remarkable representation of the gen...</td>\n",
       "    </tr>\n",
       "    <tr>\n",
       "      <th>6</th>\n",
       "      <td>Manifolds admitting a $\\tilde G_2$-structure</td>\n",
       "      <td>2023</td>\n",
       "      <td>We find a necessary and sufficient condition...</td>\n",
       "    </tr>\n",
       "    <tr>\n",
       "      <th>7</th>\n",
       "      <td>Actions for the Bosonic String with the Curved...</td>\n",
       "      <td>2020</td>\n",
       "      <td>At first we introduce an action for the stri...</td>\n",
       "    </tr>\n",
       "    <tr>\n",
       "      <th>8</th>\n",
       "      <td>Stochastic action principle and maximum entropy</td>\n",
       "      <td>2020</td>\n",
       "      <td>A stochastic action principle for stochastic...</td>\n",
       "    </tr>\n",
       "    <tr>\n",
       "      <th>9</th>\n",
       "      <td>Axiom A polynomial skew products of C^2 and th...</td>\n",
       "      <td>2023</td>\n",
       "      <td>A polynomial skew product of C^2 is a map of...</td>\n",
       "    </tr>\n",
       "  </tbody>\n",
       "</table>\n",
       "</div>"
      ],
      "text/plain": [
       "                                               title  year  \\\n",
       "0  Convergence of the discrete dipole approximati...  2022   \n",
       "1  The discrete dipole approximation: an overview...  2022   \n",
       "2                     Mapping radii of metric spaces  2021   \n",
       "3                   What can emission lines tell us?  2023   \n",
       "4               The affine part of the Picard scheme  2021   \n",
       "5                   The Veldkamp Space of Two-Qubits  2024   \n",
       "6       Manifolds admitting a $\\tilde G_2$-structure  2023   \n",
       "7  Actions for the Bosonic String with the Curved...  2020   \n",
       "8    Stochastic action principle and maximum entropy  2020   \n",
       "9  Axiom A polynomial skew products of C^2 and th...  2023   \n",
       "\n",
       "                                            abstract  \n",
       "0    We performed a rigorous theoretical converge...  \n",
       "1    We present a review of the discrete dipole a...  \n",
       "2    It is known that every closed curve of lengt...  \n",
       "3    1 Generalities\\n  2 Empirical diagnostics ba...  \n",
       "4    We describe the maximal torus and maximal un...  \n",
       "5    Given a remarkable representation of the gen...  \n",
       "6    We find a necessary and sufficient condition...  \n",
       "7    At first we introduce an action for the stri...  \n",
       "8    A stochastic action principle for stochastic...  \n",
       "9    A polynomial skew product of C^2 is a map of...  "
      ]
     },
     "execution_count": 5,
     "metadata": {},
     "output_type": "execute_result"
    }
   ],
   "source": [
    "df = pd.DataFrame(dataframe)\n",
    "df.head(10)"
   ]
  },
  {
   "cell_type": "code",
   "execution_count": 6,
   "id": "acdf788c",
   "metadata": {
    "execution": {
     "iopub.execute_input": "2024-02-12T23:57:43.537819Z",
     "iopub.status.busy": "2024-02-12T23:57:43.537417Z",
     "iopub.status.idle": "2024-02-12T23:57:43.580185Z",
     "shell.execute_reply": "2024-02-12T23:57:43.579000Z"
    },
    "papermill": {
     "duration": 0.056408,
     "end_time": "2024-02-12T23:57:43.582555",
     "exception": false,
     "start_time": "2024-02-12T23:57:43.526147",
     "status": "completed"
    },
    "tags": []
   },
   "outputs": [],
   "source": [
    "del dataframe"
   ]
  },
  {
   "cell_type": "markdown",
   "id": "9db94843",
   "metadata": {
    "papermill": {
     "duration": 0.009586,
     "end_time": "2024-02-12T23:57:43.602314",
     "exception": false,
     "start_time": "2024-02-12T23:57:43.592728",
     "status": "completed"
    },
    "tags": []
   },
   "source": [
    "### Shape of Data"
   ]
  },
  {
   "cell_type": "code",
   "execution_count": 7,
   "id": "b469a9ba",
   "metadata": {
    "execution": {
     "iopub.execute_input": "2024-02-12T23:57:43.624664Z",
     "iopub.status.busy": "2024-02-12T23:57:43.624255Z",
     "iopub.status.idle": "2024-02-12T23:57:43.630348Z",
     "shell.execute_reply": "2024-02-12T23:57:43.628983Z"
    },
    "papermill": {
     "duration": 0.020414,
     "end_time": "2024-02-12T23:57:43.632743",
     "exception": false,
     "start_time": "2024-02-12T23:57:43.612329",
     "status": "completed"
    },
    "tags": []
   },
   "outputs": [
    {
     "name": "stdout",
     "output_type": "stream",
     "text": [
      "Samples: 946827\n",
      "Features: 3\n"
     ]
    }
   ],
   "source": [
    "print(f\"Samples: {df.shape[0]}\\nFeatures: {df.shape[1]}\")"
   ]
  },
  {
   "cell_type": "markdown",
   "id": "1a16b3fc",
   "metadata": {
    "papermill": {
     "duration": 0.009432,
     "end_time": "2024-02-12T23:57:43.652705",
     "exception": false,
     "start_time": "2024-02-12T23:57:43.643273",
     "status": "completed"
    },
    "tags": []
   },
   "source": [
    "### Missing Values"
   ]
  },
  {
   "cell_type": "code",
   "execution_count": 8,
   "id": "51b36859",
   "metadata": {
    "execution": {
     "iopub.execute_input": "2024-02-12T23:57:43.674481Z",
     "iopub.status.busy": "2024-02-12T23:57:43.673724Z",
     "iopub.status.idle": "2024-02-12T23:57:44.311633Z",
     "shell.execute_reply": "2024-02-12T23:57:44.310316Z"
    },
    "papermill": {
     "duration": 0.652162,
     "end_time": "2024-02-12T23:57:44.314639",
     "exception": false,
     "start_time": "2024-02-12T23:57:43.662477",
     "status": "completed"
    },
    "tags": []
   },
   "outputs": [
    {
     "data": {
      "text/plain": [
       "False"
      ]
     },
     "execution_count": 8,
     "metadata": {},
     "output_type": "execute_result"
    }
   ],
   "source": [
    "any(df.isna().sum())"
   ]
  },
  {
   "cell_type": "code",
   "execution_count": 9,
   "id": "7606714a",
   "metadata": {
    "execution": {
     "iopub.execute_input": "2024-02-12T23:57:44.336009Z",
     "iopub.status.busy": "2024-02-12T23:57:44.335583Z",
     "iopub.status.idle": "2024-02-12T23:57:44.983767Z",
     "shell.execute_reply": "2024-02-12T23:57:44.982546Z"
    },
    "papermill": {
     "duration": 0.661983,
     "end_time": "2024-02-12T23:57:44.986439",
     "exception": false,
     "start_time": "2024-02-12T23:57:44.324456",
     "status": "completed"
    },
    "tags": []
   },
   "outputs": [
    {
     "name": "stdout",
     "output_type": "stream",
     "text": [
      "<class 'pandas.core.frame.DataFrame'>\n",
      "RangeIndex: 946827 entries, 0 to 946826\n",
      "Data columns (total 3 columns):\n",
      " #   Column    Non-Null Count   Dtype \n",
      "---  ------    --------------   ----- \n",
      " 0   title     946827 non-null  object\n",
      " 1   year      946827 non-null  int64 \n",
      " 2   abstract  946827 non-null  object\n",
      "dtypes: int64(1), object(2)\n",
      "memory usage: 21.7+ MB\n"
     ]
    }
   ],
   "source": [
    "df.info()"
   ]
  },
  {
   "cell_type": "markdown",
   "id": "2c76bcdc",
   "metadata": {
    "papermill": {
     "duration": 0.010042,
     "end_time": "2024-02-12T23:57:45.006769",
     "exception": false,
     "start_time": "2024-02-12T23:57:44.996727",
     "status": "completed"
    },
    "tags": []
   },
   "source": [
    "# Exploratory Data Analysis"
   ]
  },
  {
   "cell_type": "code",
   "execution_count": 10,
   "id": "5187083f",
   "metadata": {
    "execution": {
     "iopub.execute_input": "2024-02-12T23:57:45.029238Z",
     "iopub.status.busy": "2024-02-12T23:57:45.028830Z",
     "iopub.status.idle": "2024-02-12T23:57:45.364870Z",
     "shell.execute_reply": "2024-02-12T23:57:45.363712Z"
    },
    "papermill": {
     "duration": 0.350577,
     "end_time": "2024-02-12T23:57:45.367551",
     "exception": false,
     "start_time": "2024-02-12T23:57:45.016974",
     "status": "completed"
    },
    "tags": []
   },
   "outputs": [
    {
     "data": {
      "image/png": "[encoded data removed]",
      "text/plain": [
       "<Figure size 576x360 with 1 Axes>"
      ]
     },
     "metadata": {
      "needs_background": "light"
     },
     "output_type": "display_data"
    }
   ],
   "source": [
    "sns.countplot(data=df, x='year')\n",
    "plt.title(\"Papers Released across Years\")\n",
    "plt.show()"
   ]
  },
  {
   "cell_type": "markdown",
   "id": "5475a7c9",
   "metadata": {
    "papermill": {
     "duration": 0.010728,
     "end_time": "2024-02-12T23:57:45.389012",
     "exception": false,
     "start_time": "2024-02-12T23:57:45.378284",
     "status": "completed"
    },
    "tags": []
   },
   "source": [
    "### Abstract Length"
   ]
  },
  {
   "cell_type": "code",
   "execution_count": 11,
   "id": "cfe946c4",
   "metadata": {
    "_kg_hide-output": true,
    "execution": {
     "iopub.execute_input": "2024-02-12T23:57:45.412769Z",
     "iopub.status.busy": "2024-02-12T23:57:45.412112Z",
     "iopub.status.idle": "2024-02-12T23:57:46.206582Z",
     "shell.execute_reply": "2024-02-12T23:57:46.205462Z"
    },
    "papermill": {
     "duration": 0.809256,
     "end_time": "2024-02-12T23:57:46.209229",
     "exception": false,
     "start_time": "2024-02-12T23:57:45.399973",
     "status": "completed"
    },
    "tags": []
   },
   "outputs": [
    {
     "data": {
      "text/html": [
       "<div>\n",
       "<style scoped>\n",
       "    .dataframe tbody tr th:only-of-type {\n",
       "        vertical-align: middle;\n",
       "    }\n",
       "\n",
       "    .dataframe tbody tr th {\n",
       "        vertical-align: top;\n",
       "    }\n",
       "\n",
       "    .dataframe thead th {\n",
       "        text-align: right;\n",
       "    }\n",
       "</style>\n",
       "<table border=\"1\" class=\"dataframe\">\n",
       "  <thead>\n",
       "    <tr style=\"text-align: right;\">\n",
       "      <th></th>\n",
       "      <th>title</th>\n",
       "      <th>year</th>\n",
       "      <th>abstract</th>\n",
       "      <th>length</th>\n",
       "    </tr>\n",
       "  </thead>\n",
       "  <tbody>\n",
       "    <tr>\n",
       "      <th>0</th>\n",
       "      <td>Convergence of the discrete dipole approximati...</td>\n",
       "      <td>2022</td>\n",
       "      <td>We performed a rigorous theoretical converge...</td>\n",
       "      <td>832</td>\n",
       "    </tr>\n",
       "    <tr>\n",
       "      <th>1</th>\n",
       "      <td>The discrete dipole approximation: an overview...</td>\n",
       "      <td>2022</td>\n",
       "      <td>We present a review of the discrete dipole a...</td>\n",
       "      <td>617</td>\n",
       "    </tr>\n",
       "    <tr>\n",
       "      <th>2</th>\n",
       "      <td>Mapping radii of metric spaces</td>\n",
       "      <td>2021</td>\n",
       "      <td>It is known that every closed curve of lengt...</td>\n",
       "      <td>737</td>\n",
       "    </tr>\n",
       "    <tr>\n",
       "      <th>3</th>\n",
       "      <td>What can emission lines tell us?</td>\n",
       "      <td>2023</td>\n",
       "      <td>1 Generalities\\n  2 Empirical diagnostics ba...</td>\n",
       "      <td>181</td>\n",
       "    </tr>\n",
       "    <tr>\n",
       "      <th>4</th>\n",
       "      <td>The affine part of the Picard scheme</td>\n",
       "      <td>2021</td>\n",
       "      <td>We describe the maximal torus and maximal un...</td>\n",
       "      <td>126</td>\n",
       "    </tr>\n",
       "    <tr>\n",
       "      <th>5</th>\n",
       "      <td>The Veldkamp Space of Two-Qubits</td>\n",
       "      <td>2024</td>\n",
       "      <td>Given a remarkable representation of the gen...</td>\n",
       "      <td>582</td>\n",
       "    </tr>\n",
       "    <tr>\n",
       "      <th>6</th>\n",
       "      <td>Manifolds admitting a $\\tilde G_2$-structure</td>\n",
       "      <td>2023</td>\n",
       "      <td>We find a necessary and sufficient condition...</td>\n",
       "      <td>220</td>\n",
       "    </tr>\n",
       "    <tr>\n",
       "      <th>7</th>\n",
       "      <td>Actions for the Bosonic String with the Curved...</td>\n",
       "      <td>2020</td>\n",
       "      <td>At first we introduce an action for the stri...</td>\n",
       "      <td>414</td>\n",
       "    </tr>\n",
       "    <tr>\n",
       "      <th>8</th>\n",
       "      <td>Stochastic action principle and maximum entropy</td>\n",
       "      <td>2020</td>\n",
       "      <td>A stochastic action principle for stochastic...</td>\n",
       "      <td>770</td>\n",
       "    </tr>\n",
       "    <tr>\n",
       "      <th>9</th>\n",
       "      <td>Axiom A polynomial skew products of C^2 and th...</td>\n",
       "      <td>2023</td>\n",
       "      <td>A polynomial skew product of C^2 is a map of...</td>\n",
       "      <td>784</td>\n",
       "    </tr>\n",
       "  </tbody>\n",
       "</table>\n",
       "</div>"
      ],
      "text/plain": [
       "                                               title  year  \\\n",
       "0  Convergence of the discrete dipole approximati...  2022   \n",
       "1  The discrete dipole approximation: an overview...  2022   \n",
       "2                     Mapping radii of metric spaces  2021   \n",
       "3                   What can emission lines tell us?  2023   \n",
       "4               The affine part of the Picard scheme  2021   \n",
       "5                   The Veldkamp Space of Two-Qubits  2024   \n",
       "6       Manifolds admitting a $\\tilde G_2$-structure  2023   \n",
       "7  Actions for the Bosonic String with the Curved...  2020   \n",
       "8    Stochastic action principle and maximum entropy  2020   \n",
       "9  Axiom A polynomial skew products of C^2 and th...  2023   \n",
       "\n",
       "                                            abstract  length  \n",
       "0    We performed a rigorous theoretical converge...     832  \n",
       "1    We present a review of the discrete dipole a...     617  \n",
       "2    It is known that every closed curve of lengt...     737  \n",
       "3    1 Generalities\\n  2 Empirical diagnostics ba...     181  \n",
       "4    We describe the maximal torus and maximal un...     126  \n",
       "5    Given a remarkable representation of the gen...     582  \n",
       "6    We find a necessary and sufficient condition...     220  \n",
       "7    At first we introduce an action for the stri...     414  \n",
       "8    A stochastic action principle for stochastic...     770  \n",
       "9    A polynomial skew product of C^2 is a map of...     784  "
      ]
     },
     "execution_count": 11,
     "metadata": {},
     "output_type": "execute_result"
    }
   ],
   "source": [
    "df['length'] = df['abstract'].str.len()\n",
    "df.head(10)"
   ]
  },
  {
   "cell_type": "code",
   "execution_count": 12,
   "id": "f9b80c9d",
   "metadata": {
    "execution": {
     "iopub.execute_input": "2024-02-12T23:57:46.233693Z",
     "iopub.status.busy": "2024-02-12T23:57:46.233029Z",
     "iopub.status.idle": "2024-02-12T23:57:46.490459Z",
     "shell.execute_reply": "2024-02-12T23:57:46.488015Z"
    },
    "papermill": {
     "duration": 0.272912,
     "end_time": "2024-02-12T23:57:46.493006",
     "exception": false,
     "start_time": "2024-02-12T23:57:46.220094",
     "status": "completed"
    },
    "tags": []
   },
   "outputs": [
    {
     "data": {
      "image/png": "[encoded data removed]",
      "text/plain": [
       "<Figure size 576x360 with 1 Axes>"
      ]
     },
     "metadata": {
      "needs_background": "light"
     },
     "output_type": "display_data"
    }
   ],
   "source": [
    "sns.boxplot(data=df, y='length')\n",
    "plt.title(\"Length of Abstracts\")\n",
    "plt.show()"
   ]
  },
  {
   "cell_type": "markdown",
   "id": "dab3e5e5",
   "metadata": {
    "papermill": {
     "duration": 0.010886,
     "end_time": "2024-02-12T23:57:46.515318",
     "exception": false,
     "start_time": "2024-02-12T23:57:46.504432",
     "status": "completed"
    },
    "tags": []
   },
   "source": [
    "### Word Count"
   ]
  },
  {
   "cell_type": "code",
   "execution_count": 24,
   "id": "f43f7cf6",
   "metadata": {
    "_kg_hide-output": true,
    "execution": {
     "iopub.execute_input": "2024-02-12T23:57:46.539615Z",
     "iopub.status.busy": "2024-02-12T23:57:46.538886Z",
     "iopub.status.idle": "2024-02-12T23:57:58.058270Z",
     "shell.execute_reply": "2024-02-12T23:57:58.056991Z"
    },
    "papermill": {
     "duration": 11.534184,
     "end_time": "2024-02-12T23:57:58.060673",
     "exception": false,
     "start_time": "2024-02-12T23:57:46.526489",
     "status": "completed"
    },
    "tags": []
   },
   "outputs": [
    {
     "data": {
      "text/html": [
       "<div>\n",
       "<style scoped>\n",
       "    .dataframe tbody tr th:only-of-type {\n",
       "        vertical-align: middle;\n",
       "    }\n",
       "\n",
       "    .dataframe tbody tr th {\n",
       "        vertical-align: top;\n",
       "    }\n",
       "\n",
       "    .dataframe thead th {\n",
       "        text-align: right;\n",
       "    }\n",
       "</style>\n",
       "<table border=\"1\" class=\"dataframe\">\n",
       "  <thead>\n",
       "    <tr style=\"text-align: right;\">\n",
       "      <th></th>\n",
       "      <th>title</th>\n",
       "      <th>year</th>\n",
       "      <th>abstract</th>\n",
       "      <th>length</th>\n",
       "      <th>word_count</th>\n",
       "    </tr>\n",
       "  </thead>\n",
       "  <tbody>\n",
       "    <tr>\n",
       "      <th>0</th>\n",
       "      <td>Convergence of the discrete dipole approximati...</td>\n",
       "      <td>2022</td>\n",
       "      <td>We performed a rigorous theoretical converge...</td>\n",
       "      <td>832</td>\n",
       "      <td>133</td>\n",
       "    </tr>\n",
       "    <tr>\n",
       "      <th>1</th>\n",
       "      <td>The discrete dipole approximation: an overview...</td>\n",
       "      <td>2022</td>\n",
       "      <td>We present a review of the discrete dipole a...</td>\n",
       "      <td>617</td>\n",
       "      <td>96</td>\n",
       "    </tr>\n",
       "    <tr>\n",
       "      <th>2</th>\n",
       "      <td>Mapping radii of metric spaces</td>\n",
       "      <td>2021</td>\n",
       "      <td>It is known that every closed curve of lengt...</td>\n",
       "      <td>737</td>\n",
       "      <td>138</td>\n",
       "    </tr>\n",
       "    <tr>\n",
       "      <th>3</th>\n",
       "      <td>What can emission lines tell us?</td>\n",
       "      <td>2023</td>\n",
       "      <td>1 Generalities\\n  2 Empirical diagnostics ba...</td>\n",
       "      <td>181</td>\n",
       "      <td>27</td>\n",
       "    </tr>\n",
       "    <tr>\n",
       "      <th>4</th>\n",
       "      <td>The affine part of the Picard scheme</td>\n",
       "      <td>2021</td>\n",
       "      <td>We describe the maximal torus and maximal un...</td>\n",
       "      <td>126</td>\n",
       "      <td>21</td>\n",
       "    </tr>\n",
       "  </tbody>\n",
       "</table>\n",
       "</div>"
      ],
      "text/plain": [
       "                                               title  year  \\\n",
       "0  Convergence of the discrete dipole approximati...  2022   \n",
       "1  The discrete dipole approximation: an overview...  2022   \n",
       "2                     Mapping radii of metric spaces  2021   \n",
       "3                   What can emission lines tell us?  2023   \n",
       "4               The affine part of the Picard scheme  2021   \n",
       "\n",
       "                                            abstract  length  word_count  \n",
       "0    We performed a rigorous theoretical converge...     832         133  \n",
       "1    We present a review of the discrete dipole a...     617          96  \n",
       "2    It is known that every closed curve of lengt...     737         138  \n",
       "3    1 Generalities\\n  2 Empirical diagnostics ba...     181          27  \n",
       "4    We describe the maximal torus and maximal un...     126          21  "
      ]
     },
     "execution_count": 24,
     "metadata": {},
     "output_type": "execute_result"
    }
   ],
   "source": [
    "def word_count(x):\n",
    "    return len(x.split())\n",
    "\n",
    "df['word_count'] = df['abstract'].apply(word_count)\n",
    "df.head()"
   ]
  },
  {
   "cell_type": "code",
   "execution_count": 14,
   "id": "9c622df3",
   "metadata": {
    "execution": {
     "iopub.execute_input": "2024-02-12T23:57:58.085904Z",
     "iopub.status.busy": "2024-02-12T23:57:58.085489Z",
     "iopub.status.idle": "2024-02-12T23:57:58.354993Z",
     "shell.execute_reply": "2024-02-12T23:57:58.353605Z"
    },
    "papermill": {
     "duration": 0.285109,
     "end_time": "2024-02-12T23:57:58.357518",
     "exception": false,
     "start_time": "2024-02-12T23:57:58.072409",
     "status": "completed"
    },
    "tags": []
   },
   "outputs": [
    {
     "data": {
      "image/png": "[encoded data removed]",
      "text/plain": [
       "<Figure size 576x360 with 1 Axes>"
      ]
     },
     "metadata": {
      "needs_background": "light"
     },
     "output_type": "display_data"
    }
   ],
   "source": [
    "sns.boxplot(data=df, y='word_count')\n",
    "plt.title(\"Word Count in Abstracts\")\n",
    "plt.show()"
   ]
  },
  {
   "cell_type": "code",
   "execution_count": 15,
   "id": "ae5d3515",
   "metadata": {
    "execution": {
     "iopub.execute_input": "2024-02-12T23:57:58.384067Z",
     "iopub.status.busy": "2024-02-12T23:57:58.383616Z",
     "iopub.status.idle": "2024-02-12T23:57:58.408266Z",
     "shell.execute_reply": "2024-02-12T23:57:58.406807Z"
    },
    "papermill": {
     "duration": 0.040957,
     "end_time": "2024-02-12T23:57:58.411022",
     "exception": false,
     "start_time": "2024-02-12T23:57:58.370065",
     "status": "completed"
    },
    "tags": []
   },
   "outputs": [
    {
     "name": "stdout",
     "output_type": "stream",
     "text": [
      "Mean of Word Count: 157.27\n",
      "Median of Word Count: 155.0\n"
     ]
    }
   ],
   "source": [
    "print(f\"Mean of Word Count: {df['word_count'].mean():.2f}\\nMedian of Word Count: {df['word_count'].median()}\")"
   ]
  },
  {
   "cell_type": "markdown",
   "id": "46e1da54",
   "metadata": {
    "papermill": {
     "duration": 0.013008,
     "end_time": "2024-02-13T00:08:02.883305",
     "exception": false,
     "start_time": "2024-02-13T00:08:02.870297",
     "status": "completed"
    },
    "tags": []
   },
   "source": [
    "<div class=\"alert alert-success\" role=\"alert\">\n",
    "    <h1>Conclusion</h1>\n",
    "    <p>In conclusion, the Universal Sentence Encoder (USE) offers a powerful tool for finding similar research papers based on their abstracts. By encoding research abstracts into fixed-length numerical representations, the USE captures the semantic meaning and contextual information of the texts. This enables the computation of semantic similarity between abstracts, facilitating the identification of related research papers. The USE's ability to capture nuanced semantic relationships and its robustness in handling different language patterns make it particularly valuable for this task. By leveraging the USE, researchers can efficiently discover relevant papers, uncover hidden connections, and gain deeper insights into the existing body of knowledge. This facilitates literature review processes, aids in identifying research gaps, and promotes further advancements in various fields of study, overall, performing as powerful research tool.</p>\n",
    "</div>"
   ]
  }
 ],
 "metadata": {
  "kaggle": {
   "accelerator": "none",
   "dataSources": [
    {
     "datasetId": 612177,
     "sourceId": 7603313,
     "sourceType": "datasetVersion"
    }
   ],
   "dockerImageVersionId": 30474,
   "isGpuEnabled": false,
   "isInternetEnabled": true,
   "language": "python",
   "sourceType": "notebook"
  },
  "kernelspec": {
   "display_name": "Python 3",
   "language": "python",
   "name": "python3"
  },
  "language_info": {
   "codemirror_mode": {
    "name": "ipython",
    "version": 3
   },
   "file_extension": ".py",
   "mimetype": "text/x-python",
   "name": "python",
   "nbconvert_exporter": "python",
   "pygments_lexer": "ipython3",
   "version": "3.9.12"
  },
  "papermill": {
   "default_parameters": {},
   "duration": 752.633834,
   "end_time": "2024-02-13T00:08:06.365030",
   "environment_variables": {},
   "exception": null,
   "input_path": "__notebook__.ipynb",
   "output_path": "__notebook__.ipynb",
   "parameters": {},
   "start_time": "2024-02-12T23:55:33.731196",
   "version": "2.4.0"
  }
 },
 "nbformat": 4,
 "nbformat_minor": 5
}
